{
 "cells": [
  {
   "cell_type": "markdown",
   "id": "5ace12c2",
   "metadata": {},
   "source": [
    "#### Task-1\n",
    "* You need to translate each word or sentence from English to Spanish, French and German"
   ]
  },
  {
   "cell_type": "code",
   "execution_count": 45,
   "id": "ec4d2f6a",
   "metadata": {},
   "outputs": [],
   "source": [
    "import pandas as pd\n",
    "from mtranslate import translate #package that provides a simple interface to translate text using the Google Translate API. It allows you to translate text from one language to another in a convenient way"
   ]
  },
  {
   "cell_type": "code",
   "execution_count": 46,
   "id": "94a332f7",
   "metadata": {},
   "outputs": [
    {
     "data": {
      "text/plain": [
       "(175621, 1)"
      ]
     },
     "execution_count": 46,
     "metadata": {},
     "output_type": "execute_result"
    }
   ],
   "source": [
    "data = pd.read_csv('English.csv')\n",
    "data.shape"
   ]
  },
  {
   "cell_type": "code",
   "execution_count": 55,
   "id": "d0005c93",
   "metadata": {},
   "outputs": [
    {
     "name": "stdout",
     "output_type": "stream",
     "text": [
      "Enter the Numerber of words or sentence that you want to translate from the data:5\n"
     ]
    }
   ],
   "source": [
    "spanish = []\n",
    "french = []\n",
    "german = []\n",
    "count = 0\n",
    "word_giver = int(input('Enter the Numerber of words or sentence that you want to translate from the data:'))\n",
    "for word in data['English words/sentences']:\n",
    "    count += 1\n",
    "    if count < word_giver + 1:\n",
    "        #spanish\n",
    "        translated_text = translate(word,\"es\")\n",
    "        spanish.append(translated_text)\n",
    "        #french\n",
    "        translated_text = translate(word, \"fr\")\n",
    "        french.append(translated_text)\n",
    "        #german\n",
    "        translated_text = translate(word,\"de\")\n",
    "        german.append(translated_text)\n",
    "    else:\n",
    "        break"
   ]
  },
  {
   "cell_type": "code",
   "execution_count": 56,
   "id": "52184a80",
   "metadata": {},
   "outputs": [],
   "source": [
    "Spanish = pd.Series(spanish)\n",
    "French = pd.Series(french)\n",
    "German = pd.Series(german)"
   ]
  },
  {
   "cell_type": "code",
   "execution_count": 57,
   "id": "6cda4655",
   "metadata": {},
   "outputs": [],
   "source": [
    "data['Spanish'] = Spanish\n",
    "data['French'] = French\n",
    "data['German'] = German"
   ]
  },
  {
   "cell_type": "code",
   "execution_count": 58,
   "id": "291304e5",
   "metadata": {},
   "outputs": [
    {
     "data": {
      "text/html": [
       "<div>\n",
       "<style scoped>\n",
       "    .dataframe tbody tr th:only-of-type {\n",
       "        vertical-align: middle;\n",
       "    }\n",
       "\n",
       "    .dataframe tbody tr th {\n",
       "        vertical-align: top;\n",
       "    }\n",
       "\n",
       "    .dataframe thead th {\n",
       "        text-align: right;\n",
       "    }\n",
       "</style>\n",
       "<table border=\"1\" class=\"dataframe\">\n",
       "  <thead>\n",
       "    <tr style=\"text-align: right;\">\n",
       "      <th></th>\n",
       "      <th>English words/sentences</th>\n",
       "      <th>Spanish</th>\n",
       "      <th>French</th>\n",
       "      <th>German</th>\n",
       "    </tr>\n",
       "  </thead>\n",
       "  <tbody>\n",
       "    <tr>\n",
       "      <th>0</th>\n",
       "      <td>Hi.</td>\n",
       "      <td>Hola.</td>\n",
       "      <td>Salut.</td>\n",
       "      <td>Hallo.</td>\n",
       "    </tr>\n",
       "    <tr>\n",
       "      <th>1</th>\n",
       "      <td>Run!</td>\n",
       "      <td>¡Correr!</td>\n",
       "      <td>Courir!</td>\n",
       "      <td>Laufen!</td>\n",
       "    </tr>\n",
       "    <tr>\n",
       "      <th>2</th>\n",
       "      <td>Run!</td>\n",
       "      <td>¡Correr!</td>\n",
       "      <td>Courir!</td>\n",
       "      <td>Laufen!</td>\n",
       "    </tr>\n",
       "    <tr>\n",
       "      <th>3</th>\n",
       "      <td>Who?</td>\n",
       "      <td>¿OMS?</td>\n",
       "      <td>OMS?</td>\n",
       "      <td>WHO?</td>\n",
       "    </tr>\n",
       "    <tr>\n",
       "      <th>4</th>\n",
       "      <td>Wow!</td>\n",
       "      <td>¡Guau!</td>\n",
       "      <td>Ouah!</td>\n",
       "      <td>Wow!</td>\n",
       "    </tr>\n",
       "  </tbody>\n",
       "</table>\n",
       "</div>"
      ],
      "text/plain": [
       "  English words/sentences   Spanish   French   German\n",
       "0                     Hi.     Hola.   Salut.   Hallo.\n",
       "1                    Run!  ¡Correr!  Courir!  Laufen!\n",
       "2                    Run!  ¡Correr!  Courir!  Laufen!\n",
       "3                    Who?     ¿OMS?     OMS?     WHO?\n",
       "4                    Wow!    ¡Guau!    Ouah!     Wow!"
      ]
     },
     "execution_count": 58,
     "metadata": {},
     "output_type": "execute_result"
    }
   ],
   "source": [
    "data.head()"
   ]
  }
 ],
 "metadata": {
  "kernelspec": {
   "display_name": "Python 3 (ipykernel)",
   "language": "python",
   "name": "python3"
  },
  "language_info": {
   "codemirror_mode": {
    "name": "ipython",
    "version": 3
   },
   "file_extension": ".py",
   "mimetype": "text/x-python",
   "name": "python",
   "nbconvert_exporter": "python",
   "pygments_lexer": "ipython3",
   "version": "3.11.2"
  }
 },
 "nbformat": 4,
 "nbformat_minor": 5
}
