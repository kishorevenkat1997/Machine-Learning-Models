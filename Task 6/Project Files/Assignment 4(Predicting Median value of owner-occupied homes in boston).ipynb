{
 "cells": [
  {
   "cell_type": "markdown",
   "id": "48b506df",
   "metadata": {},
   "source": [
    "**Boston Housing Dataset**\n",
    "Predicting Median value of owner-occupied homes\n",
    "The aim of this assignment is to learn the application of machine learning algorithms to data sets. This involves learning what data means, how to handle data, training, cross validation, prediction, testing your model, etc.\n",
    "This dataset contains information collected by the U.S Census Service concerning housing in the area of Boston Mass. It was obtained from the StatLib archive, and has been used extensively throughout the literature to benchmark algorithms. The data was originally published by Harrison, D. and Rubinfeld, D.L. Hedonic prices and the demand for clean air', J. Environ. Economics & Management, vol.5, 81-102, 1978.\n",
    "The dataset is small in size with only 506 cases. It can be used to predict the median value of a home, which is done here. There are 14 attributes in each case of the dataset. They are:\n",
    "*    CRIM - per capita crime rate by town\n",
    "*    ZN - proportion of residential land zoned for lots over 25,000 sq.ft.\n",
    "*    INDUS - proportion of non-retail business acres per town.\n",
    "*    CHAS - Charles River dummy variable (1 if tract bounds river; 0 otherwise)\n",
    "*    INOX - nitric oxides concentration (parts per 10 million)\n",
    "*    RM - average number of rooms per dwelling\n",
    "*    AGE - proportion of owner-occupied units built prior to 1940\n",
    "*    DIS - weighted distances to five Boston employment centres\n",
    "*    RAD - index of accessibility to radial highways\n",
    "*    TAX - full-value property-tax rate per $10,000\n",
    "*    PTRATIO - pupil-teacher ratio by town\n",
    "*    B - 1000(Bk - 0.63)^2 where Bk is the proportion of blacks by town\n",
    "*    LSTAT - % lower status of the population\n",
    "*    MEDV - Median value of owner-occupied homes in $1000's\n",
    "\n",
    "Aim\n",
    "    • To implement a linear regression with regularization via gradient descent.\n",
    "    • to implement gradient descent with Lp norm, for 3 different values of p in (1,2]\n",
    "    • To contrast the difference between performance of linear regression Lp norm and L2 norm for these 3 different values.\n",
    "    • Tally that the gradient descent for L2 gives same result as matrix inversion based solution.\n",
    "All the code is written in a single python file. The python program accepts the data directory path as input where the train and test csv files reside. Note that the data directory will contain two files train.csv used to train your model and test.csv for which the output predictions are to be made. The output predictions get written to a file named output.csv. The output.csv file should have two comma separated columns [ID,Output].\n",
    "Working of Code\n",
    "    • NumPy library would be required, so code begins by importing it\n",
    "    • Import phi and phi_test from train and test datasets using NumPy's loadtxt function\n",
    "    • Import y from train dataset using the loadtxt function\n",
    "    • Concatenate coloumn of 1s to right of phi and phi_test\n",
    "    • Apply min max scaling on each coloumn of phi and phi_test\n",
    "    • Apply log scaling on y\n",
    "    • Define a function to calculate change in error function based on phi, w and p norm\n",
    "    • Make a dictionary containing filenames as keys and p as values\n",
    "    • For each item in this dictionary\n",
    "        ◦ Set the w to all 0s\n",
    "        ◦ Set an appropriate value for lambda and step size\n",
    "        ◦ Calculate new value of w\n",
    "        ◦ Repeat steps until error between consecutive ws is less than threshold\n",
    "        ◦ Load values of id from test data file\n",
    "        ◦ Calculate y for test data using phi test and applying inverse log\n",
    "        ◦ Save the ids and y according to filename from dictionary"
   ]
  },
  {
   "cell_type": "code",
   "execution_count": 2,
   "id": "3cd29eff",
   "metadata": {},
   "outputs": [],
   "source": [
    "import numpy as np"
   ]
  },
  {
   "cell_type": "markdown",
   "id": "50789036",
   "metadata": {},
   "source": [
    "#### Import phi and phi_test from train and test datasets using NumPy's loadtxt function"
   ]
  },
  {
   "cell_type": "code",
   "execution_count": 5,
   "id": "cf970f78",
   "metadata": {},
   "outputs": [],
   "source": [
    "#Import phi from train data set\n",
    "phi = np.loadtxt('train.csv', dtype='float', delimiter=',', skiprows=1,usecols=tuple(range(1, 14)))\n",
    "# Import phi_test from test data set\n",
    "phi_test = np.loadtxt('test.csv', dtype='float', delimiter=',',skiprows=1, usecols=tuple(range(1, 14)))"
   ]
  },
  {
   "cell_type": "markdown",
   "id": "b782be2e",
   "metadata": {},
   "source": [
    "#### Import y from train dataset using the loadtxt function"
   ]
  },
  {
   "cell_type": "code",
   "execution_count": 7,
   "id": "55e7d21b",
   "metadata": {},
   "outputs": [],
   "source": [
    "y = np.loadtxt('train.csv', dtype='float', delimiter=',', skiprows=1,usecols=14, ndmin=2)"
   ]
  },
  {
   "cell_type": "markdown",
   "id": "b3448800",
   "metadata": {},
   "source": [
    "#### Concatenate coloumn of 1s to right of phi and phi_test"
   ]
  },
  {
   "cell_type": "code",
   "execution_count": 8,
   "id": "32600466",
   "metadata": {},
   "outputs": [],
   "source": [
    "phi_test = np.concatenate((phi_test, np.ones((105, 1))), axis=1)\n",
    "phi = np.concatenate((phi, np.ones((400, 1))), axis=1)"
   ]
  },
  {
   "cell_type": "markdown",
   "id": "7b49af5d",
   "metadata": {},
   "source": [
    "#### Apply min max scaling on each coloumn of phi and phi_test"
   ]
  },
  {
   "cell_type": "code",
   "execution_count": 9,
   "id": "fc9ab88a",
   "metadata": {},
   "outputs": [],
   "source": [
    "for i in range(0, 13):\n",
    "    col_max = max(phi[:, i])\n",
    "    col_min = min(phi[:, i])\n",
    "    phi[:, i] = (phi[:, i] - col_min) / (col_max - col_min)\n",
    "    phi_test[:, i] = (phi_test[:, i] - col_min) / (col_max - col_min)"
   ]
  },
  {
   "cell_type": "markdown",
   "id": "3188fcdd",
   "metadata": {},
   "source": [
    "#### Apply log scaling on y."
   ]
  },
  {
   "cell_type": "code",
   "execution_count": 10,
   "id": "17fb198c",
   "metadata": {},
   "outputs": [],
   "source": [
    "y = np.log(y)"
   ]
  },
  {
   "cell_type": "markdown",
   "id": "71ee41ad",
   "metadata": {},
   "source": [
    "#### Define a function to calculate change in error function based on phi, w and p norm"
   ]
  },
  {
   "cell_type": "code",
   "execution_count": 11,
   "id": "8b6364fc",
   "metadata": {},
   "outputs": [],
   "source": [
    "def delta_w(p, phi, w):\n",
    "    if p == 2:\n",
    "        deltaw = (2 * (np.dot(np.dot(np.transpose(phi), phi), w) -\n",
    "                       np.dot(np.transpose(phi), y)) +\n",
    "                  lambd * p * np.power(np.absolute(w), (p - 1)))\n",
    "    if p < 2 and p > 1:\n",
    "        deltaw = (2 * (np.dot(np.dot(np.transpose(phi), phi), w) -\n",
    "                       np.dot(np.transpose(phi), y)) +\n",
    "                  lambd * p * np.power(np.absolute(w), (p - 1)) * np.sign(w))\n",
    "    return deltaw"
   ]
  },
  {
   "cell_type": "markdown",
   "id": "83e43156",
   "metadata": {},
   "source": [
    "#### Make a dictionary containing filenames as keys and p as values"
   ]
  },
  {
   "cell_type": "code",
   "execution_count": 12,
   "id": "e3ca0eda",
   "metadata": {},
   "outputs": [],
   "source": [
    "filenames = {'output.csv': 2.0,\n",
    "             'output_p1.csv': 1.75,\n",
    "             'output_p2.csv': 1.5,\n",
    "             'output_p3.csv': 1.3\n",
    "             }\n"
   ]
  },
  {
   "cell_type": "markdown",
   "id": "b525d4a1",
   "metadata": {},
   "source": [
    "#### For each item in this dictionary:\n",
    "#### Set the w to all 0s"
   ]
  },
  {
   "cell_type": "code",
   "execution_count": 13,
   "id": "75fc31b2",
   "metadata": {},
   "outputs": [],
   "source": [
    "for (fname, p) in filenames.items():\n",
    "    w = np.zeros((14, 1))"
   ]
  },
  {
   "cell_type": "markdown",
   "id": "1ba66a5c",
   "metadata": {},
   "source": [
    "#### Set an appropriate value for lambda(Hyperparameter) and step size"
   ]
  },
  {
   "cell_type": "code",
   "execution_count": 14,
   "id": "8c0d553b",
   "metadata": {},
   "outputs": [],
   "source": [
    "lambd = 0.2\n",
    "t = 0.00012 # Max step size"
   ]
  },
  {
   "cell_type": "markdown",
   "id": "127d58f0",
   "metadata": {},
   "source": [
    "#### Calculate new value of w"
   ]
  },
  {
   "cell_type": "code",
   "execution_count": 16,
   "id": "50f1e9f2",
   "metadata": {},
   "outputs": [
    {
     "data": {
      "text/plain": [
       "array([[0.01009907],\n",
       "       [0.03686453],\n",
       "       [0.10625758],\n",
       "       [0.02276236],\n",
       "       [0.09557588],\n",
       "       [0.1390052 ],\n",
       "       [0.19031748],\n",
       "       [0.07372563],\n",
       "       [0.09978034],\n",
       "       [0.11313201],\n",
       "       [0.17698804],\n",
       "       [0.26676462],\n",
       "       [0.08052811],\n",
       "       [0.29102296]])"
      ]
     },
     "execution_count": 16,
     "metadata": {},
     "output_type": "execute_result"
    }
   ],
   "source": [
    "w_new = w - t * delta_w(p, phi, w)\n",
    "w_new"
   ]
  },
  {
   "cell_type": "markdown",
   "id": "af827e25",
   "metadata": {},
   "source": [
    "#### Repeat steps until error between consecutive ws is less than threshold"
   ]
  },
  {
   "cell_type": "code",
   "execution_count": 17,
   "id": "706b5d06",
   "metadata": {},
   "outputs": [],
   "source": [
    "i = 0\n",
    "while(np.linalg.norm(w_new-w) > 10 ** -10):\n",
    "        w = w_new\n",
    "        w_new = w - t * delta_w(p, phi, w)\n",
    "        i = i + 1"
   ]
  },
  {
   "cell_type": "markdown",
   "id": "93cba77f",
   "metadata": {},
   "source": [
    "#### Load values of id from test data file"
   ]
  },
  {
   "cell_type": "code",
   "execution_count": 18,
   "id": "927f55a6",
   "metadata": {},
   "outputs": [],
   "source": [
    "id_test = np.loadtxt('test.csv', dtype='int', delimiter=',',skiprows=1, usecols=0, ndmin=2)"
   ]
  },
  {
   "cell_type": "markdown",
   "id": "64c05d87",
   "metadata": {},
   "source": [
    "#### Calculate y for test data using phi test and applying inverse log"
   ]
  },
  {
   "cell_type": "code",
   "execution_count": 19,
   "id": "0371cd66",
   "metadata": {},
   "outputs": [],
   "source": [
    "y_test = np.exp(np.dot(phi_test, w_new))"
   ]
  },
  {
   "cell_type": "markdown",
   "id": "c0b62cfd",
   "metadata": {},
   "source": [
    "#### Save the ids and y according to filename from dictionary"
   ]
  },
  {
   "cell_type": "code",
   "execution_count": 20,
   "id": "6291effd",
   "metadata": {},
   "outputs": [],
   "source": [
    "np.savetxt(fname, np.concatenate((id_test, y_test), axis=1),delimiter=',', fmt=['%d', '%f'], header='ID,MEDV', comments='')"
   ]
  }
 ],
 "metadata": {
  "kernelspec": {
   "display_name": "Python 3 (ipykernel)",
   "language": "python",
   "name": "python3"
  },
  "language_info": {
   "codemirror_mode": {
    "name": "ipython",
    "version": 3
   },
   "file_extension": ".py",
   "mimetype": "text/x-python",
   "name": "python",
   "nbconvert_exporter": "python",
   "pygments_lexer": "ipython3",
   "version": "3.11.2"
  }
 },
 "nbformat": 4,
 "nbformat_minor": 5
}
